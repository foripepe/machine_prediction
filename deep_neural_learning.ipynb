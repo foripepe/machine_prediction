{
 "cells": [
  {
   "cell_type": "code",
   "execution_count": 1,
   "metadata": {
    "collapsed": false
   },
   "outputs": [
    {
     "name": "stderr",
     "output_type": "stream",
     "text": [
      "Using Theano backend.\n"
     ]
    }
   ],
   "source": [
    "# LSTM for sales problem with regression framing\n",
    "\n",
    "import numpy\n",
    "import matplotlib.pyplot as plt\n",
    "import pandas\n",
    "import math\n",
    "import pickle\n",
    "from keras.models import Sequential\n",
    "from keras.layers import Dense\n",
    "from keras.layers import LSTM\n",
    "from sklearn.preprocessing import MinMaxScaler\n",
    "from sklearn.metrics import mean_squared_error\n",
    "\n",
    "# convert an array of values into a dataset matrix\n",
    "# def create_dataset(dataset, look_back=1):\n",
    "#     dataX, dataY = [], []\n",
    "#     for i in range(len(dataset)-look_back-1):\n",
    "#         a = dataset[i:(i+look_back), :]\n",
    "#         dataX.append(a)\n",
    "#         yz = dataset[i + look_back, 5]\n",
    "#         dataY.append(yz)\n",
    "#         print(yz)\n",
    "#     return numpy.array(dataX), numpy.array(dataY)\n",
    "\n",
    "def create_dataset(dataset, look_back=1):\n",
    "    dataX, dataY = [], []\n",
    "    for i in range(len(dataset)-look_back-1):\n",
    "        a = []\n",
    "        for j in range(look_back):\n",
    "            a = numpy.concatenate([a, dataset[i + j][:-1]])\n",
    "        print(a)\n",
    "        dataX.append(a)\n",
    "        dataY.append(dataset[i + look_back, 5])\n",
    "    return numpy.array(dataX), numpy.array(dataY)\n",
    "\n",
    "# fix random seed for reproducibility\n",
    "numpy.random.seed(7)\n",
    "\n",
    "# load the dataset\n",
    "dataframe = pandas.read_csv('data/NL Pb till Dec 2016.csv', usecols=[2,3,4,5,6,7], engine='python', skipfooter=2)"
   ]
  },
  {
   "cell_type": "code",
   "execution_count": 3,
   "metadata": {
    "collapsed": true
   },
   "outputs": [],
   "source": [
    "dataset = dataframe.values\n",
    "dataset = dataset.astype('float32')"
   ]
  },
  {
   "cell_type": "code",
   "execution_count": 5,
   "metadata": {
    "collapsed": true
   },
   "outputs": [],
   "source": [
    "# normalize the dataset\n",
    "#scaler = MinMaxScaler(feature_range=(0, 1))\n",
    "#dataset = scaler.fit_transform(dataset)"
   ]
  },
  {
   "cell_type": "code",
   "execution_count": 6,
   "metadata": {
    "collapsed": true
   },
   "outputs": [],
   "source": [
    "# split into train and test sets\n",
    "train_size = int(len(dataset) * 0.67)\n",
    "test_size = len(dataset) - train_size\n",
    "train, test = dataset[0:train_size,:], dataset[train_size:len(dataset),:]"
   ]
  },
  {
   "cell_type": "code",
   "execution_count": null,
   "metadata": {
    "collapsed": false,
    "scrolled": true
   },
   "outputs": [],
   "source": [
    "# reshape into X=t and Y=t+1\n",
    "look_back = 5\n",
    "trainX, trainY = create_dataset(train, look_back)\n",
    "testX, testY = create_dataset(test, look_back)"
   ]
  },
  {
   "cell_type": "code",
   "execution_count": 174,
   "metadata": {
    "collapsed": false
   },
   "outputs": [],
   "source": [
    "# reshape input to be [samples, time steps, features]\n",
    "#trainX = numpy.reshape(trainX, (trainX.shape[0], trainX.shape[2], look_back))\n",
    "#trainX = numpy.reshape(trainX, (trainX.shape[0] * trainX.shape[1], look_back))\n",
    "\n",
    "#testX = numpy.reshape(testX, (testX.shape[0] * testX.shape[1], look_back))"
   ]
  },
  {
   "cell_type": "code",
   "execution_count": 8,
   "metadata": {
    "collapsed": false
   },
   "outputs": [
    {
     "name": "stdout",
     "output_type": "stream",
     "text": [
      "Epoch 1/100\n",
      "0s - loss: 638480.3909\n",
      "Epoch 2/100\n",
      "0s - loss: 626128.3801\n",
      "Epoch 3/100\n",
      "0s - loss: 621467.7777\n",
      "Epoch 4/100\n",
      "0s - loss: 614334.0273\n",
      "Epoch 5/100\n",
      "0s - loss: 618360.0502\n",
      "Epoch 6/100\n",
      "0s - loss: 612530.7319\n",
      "Epoch 7/100\n",
      "0s - loss: 612865.3201\n",
      "Epoch 8/100\n",
      "0s - loss: 614519.0145\n",
      "Epoch 9/100\n",
      "0s - loss: 610108.3286\n",
      "Epoch 10/100\n",
      "0s - loss: 616292.3534\n",
      "Epoch 11/100\n",
      "0s - loss: 610487.7452\n",
      "Epoch 12/100\n",
      "0s - loss: 607943.5753\n",
      "Epoch 13/100\n",
      "0s - loss: 607239.3198\n",
      "Epoch 14/100\n",
      "0s - loss: 603143.5719\n",
      "Epoch 15/100\n",
      "0s - loss: 606421.8154\n",
      "Epoch 16/100\n",
      "0s - loss: 603513.1644\n",
      "Epoch 17/100\n",
      "0s - loss: 602328.3720\n",
      "Epoch 18/100\n",
      "0s - loss: 609467.1523\n",
      "Epoch 19/100\n",
      "0s - loss: 604982.9377\n",
      "Epoch 20/100\n",
      "0s - loss: 606323.5413\n",
      "Epoch 21/100\n",
      "0s - loss: 601588.4404\n",
      "Epoch 22/100\n",
      "0s - loss: 599505.9021\n",
      "Epoch 23/100\n",
      "0s - loss: 602719.8064\n",
      "Epoch 24/100\n",
      "0s - loss: 600937.5227\n",
      "Epoch 25/100\n",
      "0s - loss: 600259.0098\n",
      "Epoch 26/100\n",
      "0s - loss: 600426.1504\n",
      "Epoch 27/100\n",
      "0s - loss: 600363.6872\n",
      "Epoch 28/100\n",
      "0s - loss: 602551.2516\n",
      "Epoch 29/100\n",
      "0s - loss: 600839.3370\n",
      "Epoch 30/100\n",
      "0s - loss: 601002.5402\n",
      "Epoch 31/100\n",
      "0s - loss: 600957.7701\n",
      "Epoch 32/100\n",
      "0s - loss: 600671.0139\n",
      "Epoch 33/100\n",
      "0s - loss: 597182.6627\n",
      "Epoch 34/100\n",
      "0s - loss: 598493.1261\n",
      "Epoch 35/100\n",
      "0s - loss: 598849.3888\n",
      "Epoch 36/100\n",
      "0s - loss: 601021.0982\n",
      "Epoch 37/100\n",
      "0s - loss: 595840.8004\n",
      "Epoch 38/100\n",
      "0s - loss: 597840.0743\n",
      "Epoch 39/100\n",
      "0s - loss: 599705.4193\n",
      "Epoch 40/100\n",
      "0s - loss: 602773.5679\n",
      "Epoch 41/100\n",
      "0s - loss: 598691.3005\n",
      "Epoch 42/100\n",
      "0s - loss: 599647.1848\n",
      "Epoch 43/100\n",
      "0s - loss: 597761.7482\n",
      "Epoch 44/100\n",
      "0s - loss: 595623.3302\n",
      "Epoch 45/100\n",
      "0s - loss: 598114.9874\n",
      "Epoch 46/100\n",
      "0s - loss: 594198.8572\n",
      "Epoch 47/100\n",
      "0s - loss: 598315.0946\n",
      "Epoch 48/100\n",
      "0s - loss: 596179.5613\n",
      "Epoch 49/100\n",
      "0s - loss: 600413.2598\n",
      "Epoch 50/100\n",
      "0s - loss: 596629.6867\n",
      "Epoch 51/100\n",
      "0s - loss: 597228.3943\n",
      "Epoch 52/100\n",
      "0s - loss: 600744.2806\n",
      "Epoch 53/100\n",
      "0s - loss: 593621.6422\n",
      "Epoch 54/100\n",
      "0s - loss: 596234.5609\n",
      "Epoch 55/100\n",
      "0s - loss: 591510.7360\n",
      "Epoch 56/100\n",
      "0s - loss: 593195.6947\n",
      "Epoch 57/100\n",
      "0s - loss: 594904.4843\n",
      "Epoch 58/100\n",
      "0s - loss: 592289.6788\n",
      "Epoch 59/100\n",
      "0s - loss: 593969.4460\n",
      "Epoch 60/100\n",
      "0s - loss: 594354.7176\n",
      "Epoch 61/100\n",
      "0s - loss: 594760.5113\n",
      "Epoch 62/100\n",
      "0s - loss: 594047.9700\n",
      "Epoch 63/100\n",
      "0s - loss: 593086.1927\n",
      "Epoch 64/100\n",
      "0s - loss: 595930.7977\n",
      "Epoch 65/100\n",
      "0s - loss: 595581.4710\n",
      "Epoch 66/100\n",
      "0s - loss: 591006.3005\n",
      "Epoch 67/100\n",
      "0s - loss: 589532.1154\n",
      "Epoch 68/100\n",
      "0s - loss: 592367.3134\n",
      "Epoch 69/100\n",
      "0s - loss: 591884.2863\n",
      "Epoch 70/100\n",
      "0s - loss: 590069.0840\n",
      "Epoch 71/100\n",
      "0s - loss: 591674.3328\n",
      "Epoch 72/100\n",
      "0s - loss: 589626.8951\n",
      "Epoch 73/100\n",
      "0s - loss: 588925.6079\n",
      "Epoch 74/100\n",
      "0s - loss: 591594.0169\n",
      "Epoch 75/100\n",
      "0s - loss: 590313.0591\n",
      "Epoch 76/100\n",
      "0s - loss: 586953.7073\n",
      "Epoch 77/100\n",
      "0s - loss: 588857.8113\n",
      "Epoch 78/100\n",
      "0s - loss: 589560.3872\n",
      "Epoch 79/100\n",
      "0s - loss: 586453.8031\n",
      "Epoch 80/100\n",
      "0s - loss: 587140.2374\n",
      "Epoch 81/100\n",
      "0s - loss: 590153.2521\n",
      "Epoch 82/100\n",
      "0s - loss: 586055.6093\n",
      "Epoch 83/100\n",
      "0s - loss: 580153.5678\n",
      "Epoch 84/100\n",
      "0s - loss: 586610.8103\n",
      "Epoch 85/100\n",
      "0s - loss: 590792.0164\n",
      "Epoch 86/100\n",
      "0s - loss: 587196.7733\n",
      "Epoch 87/100\n",
      "0s - loss: 588541.1716\n",
      "Epoch 88/100\n",
      "0s - loss: 582812.6286\n",
      "Epoch 89/100\n",
      "0s - loss: 585487.7901\n",
      "Epoch 90/100\n",
      "0s - loss: 580757.2971\n",
      "Epoch 91/100\n",
      "0s - loss: 581294.5878\n",
      "Epoch 92/100\n",
      "0s - loss: 586086.5111\n",
      "Epoch 93/100\n",
      "0s - loss: 582438.1560\n",
      "Epoch 94/100\n",
      "0s - loss: 580628.4197\n",
      "Epoch 95/100\n",
      "0s - loss: 582550.2801\n",
      "Epoch 96/100\n",
      "0s - loss: 581022.3664\n",
      "Epoch 97/100\n",
      "0s - loss: 579864.4888\n",
      "Epoch 98/100\n",
      "0s - loss: 587074.7179\n",
      "Epoch 99/100\n",
      "0s - loss: 580041.2070\n",
      "Epoch 100/100\n",
      "0s - loss: 579385.4688\n"
     ]
    },
    {
     "data": {
      "text/plain": [
       "<keras.callbacks.History at 0x7f5d1c047410>"
      ]
     },
     "execution_count": 8,
     "metadata": {},
     "output_type": "execute_result"
    }
   ],
   "source": [
    "# create and fit the LSTM network\n",
    "model = Sequential()\n",
    "model.add(Dense(40, input_dim=look_back*5, activation='relu'))\n",
    "model.add(Dense(40,  activation='relu'))\n",
    "model.add(Dense(1))\n",
    "model.compile(loss='mean_squared_error', optimizer='adam')\n",
    "model.fit(trainX, trainY, nb_epoch=100, batch_size=5, verbose=2)"
   ]
  },
  {
   "cell_type": "code",
   "execution_count": 7,
   "metadata": {
    "collapsed": true
   },
   "outputs": [],
   "source": [
    "import sys\n",
    "sys.setrecursionlimit(10000)\n",
    "# Save the model\n",
    "# pickle.dump( model, open( \"save.p\", \"wb\" ) )"
   ]
  },
  {
   "cell_type": "code",
   "execution_count": 9,
   "metadata": {
    "collapsed": true
   },
   "outputs": [],
   "source": [
    "# make predictions\n",
    "trainPredict = model.predict(trainX)\n",
    "testPredict = model.predict(testX)"
   ]
  },
  {
   "cell_type": "code",
   "execution_count": 10,
   "metadata": {
    "collapsed": false
   },
   "outputs": [
    {
     "name": "stdout",
     "output_type": "stream",
     "text": [
      "Test Score: 956.06 RMSE\n"
     ]
    }
   ],
   "source": [
    "testScore = math.sqrt(mean_squared_error(testY, testPredict[:,0]))\n",
    "print('Test Score: %.2f RMSE' % (testScore))"
   ]
  }
 ],
 "metadata": {
  "kernelspec": {
   "display_name": "Python 2",
   "language": "python",
   "name": "python2"
  },
  "language_info": {
   "codemirror_mode": {
    "name": "ipython",
    "version": 2
   },
   "file_extension": ".py",
   "mimetype": "text/x-python",
   "name": "python",
   "nbconvert_exporter": "python",
   "pygments_lexer": "ipython2",
   "version": "2.7.12"
  }
 },
 "nbformat": 4,
 "nbformat_minor": 2
}
