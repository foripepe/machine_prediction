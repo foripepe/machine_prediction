{
 "cells": [
  {
   "cell_type": "code",
   "execution_count": 2,
   "metadata": {
    "collapsed": false
   },
   "outputs": [],
   "source": [
    "# LSTM for sales problem with regression framing\n",
    "\n",
    "import numpy\n",
    "import matplotlib.pyplot as plt\n",
    "import pandas\n",
    "import math\n",
    "import pickle\n",
    "from keras.models import Sequential\n",
    "from keras.layers import Dense\n",
    "from keras.layers import LSTM\n",
    "from sklearn.preprocessing import MinMaxScaler\n",
    "from sklearn.metrics import mean_squared_error\n",
    "\n",
    "def create_dataset(dataset, look_back=1):\n",
    "    dataX, dataY = [], []\n",
    "    for i in range(len(dataset)-look_back-1):\n",
    "        a = []\n",
    "        for j in range(look_back):\n",
    "            a = numpy.concatenate([a, dataset[i + j][:-1]])\n",
    "        print(a)\n",
    "        dataX.append(a)\n",
    "        dataY.append(dataset[i + look_back, -1])\n",
    "    return numpy.array(dataX), numpy.array(dataY)\n",
    "\n",
    "# fix random seed for reproducibility\n",
    "numpy.random.seed(7)\n",
    "\n",
    "# load the dataset\n",
    "dataframe = pandas.read_csv('data/Nl Pb till Dec 2016_ol-10_userBase-10_training-set_filled.csv', engine='python', skipfooter=0)"
   ]
  },
  {
   "cell_type": "code",
   "execution_count": 4,
   "metadata": {
    "collapsed": true
   },
   "outputs": [],
   "source": [
    "dataset = dataframe.values\n",
    "dataset = dataset.astype('float32')"
   ]
  },
  {
   "cell_type": "code",
   "execution_count": 114,
   "metadata": {
    "collapsed": true
   },
   "outputs": [],
   "source": [
    "# normalize the dataset\n",
    "#scaler = MinMaxScaler(feature_range=(0, 1))\n",
    "#dataset = scaler.fit_transform(dataset)"
   ]
  },
  {
   "cell_type": "code",
   "execution_count": 5,
   "metadata": {
    "collapsed": true
   },
   "outputs": [],
   "source": [
    "# split into train and test sets\n",
    "train_size = int(len(dataset) * 0.67)\n",
    "test_size = len(dataset) - train_size\n",
    "train, test = dataset[0:train_size,:], dataset[train_size:len(dataset),:]"
   ]
  },
  {
   "cell_type": "code",
   "execution_count": null,
   "metadata": {
    "collapsed": false
   },
   "outputs": [],
   "source": [
    "# reshape into X=t and Y=t+1\n",
    "look_back = 1\n",
    "trainX, trainY = create_dataset(train, look_back)\n",
    "testX, testY = create_dataset(test, look_back)"
   ]
  },
  {
   "cell_type": "code",
   "execution_count": 174,
   "metadata": {
    "collapsed": false
   },
   "outputs": [],
   "source": [
    "# reshape input to be [samples, time steps, features]\n",
    "#trainX = numpy.reshape(trainX, (trainX.shape[0], trainX.shape[2], look_back))\n",
    "#trainX = numpy.reshape(trainX, (trainX.shape[0] * trainX.shape[1], look_back))\n",
    "\n",
    "#testX = numpy.reshape(testX, (testX.shape[0] * testX.shape[1], look_back))"
   ]
  },
  {
   "cell_type": "code",
   "execution_count": 7,
   "metadata": {
    "collapsed": false
   },
   "outputs": [
    {
     "name": "stdout",
     "output_type": "stream",
     "text": [
      "Epoch 1/100\n",
      "0s - loss: 3236552.3882\n",
      "Epoch 2/100\n",
      "0s - loss: 2458572.6947\n",
      "Epoch 3/100\n",
      "0s - loss: 1098660.0590\n",
      "Epoch 4/100\n",
      "0s - loss: 1295324.0943\n",
      "Epoch 5/100\n",
      "0s - loss: 1442314.9427\n",
      "Epoch 6/100\n",
      "0s - loss: 1140651.4923\n",
      "Epoch 7/100\n",
      "0s - loss: 1102930.6728\n",
      "Epoch 8/100\n",
      "0s - loss: 1256910.9060\n",
      "Epoch 9/100\n",
      "0s - loss: 797449.6480\n",
      "Epoch 10/100\n",
      "0s - loss: 1236313.4149\n",
      "Epoch 11/100\n",
      "0s - loss: 892428.9022\n",
      "Epoch 12/100\n",
      "0s - loss: 648314.4823\n",
      "Epoch 13/100\n",
      "0s - loss: 885374.7016\n",
      "Epoch 14/100\n",
      "0s - loss: 752839.2761\n",
      "Epoch 15/100\n",
      "0s - loss: 611461.9205\n",
      "Epoch 16/100\n",
      "0s - loss: 861423.1988\n",
      "Epoch 17/100\n",
      "0s - loss: 599829.7638\n",
      "Epoch 18/100\n",
      "0s - loss: 687636.7367\n",
      "Epoch 19/100\n",
      "0s - loss: 691331.3966\n",
      "Epoch 20/100\n",
      "0s - loss: 585959.5643\n",
      "Epoch 21/100\n",
      "0s - loss: 550876.1534\n",
      "Epoch 22/100\n",
      "0s - loss: 526937.9390\n",
      "Epoch 23/100\n",
      "0s - loss: 521301.4066\n",
      "Epoch 24/100\n",
      "0s - loss: 534662.7145\n",
      "Epoch 25/100\n",
      "0s - loss: 471353.0396\n",
      "Epoch 26/100\n",
      "0s - loss: 508400.9424\n",
      "Epoch 27/100\n",
      "0s - loss: 561270.8627\n",
      "Epoch 28/100\n",
      "0s - loss: 529884.6380\n",
      "Epoch 29/100\n",
      "0s - loss: 433996.6068\n",
      "Epoch 30/100\n",
      "0s - loss: 477291.2785\n",
      "Epoch 31/100\n",
      "0s - loss: 489567.8073\n",
      "Epoch 32/100\n",
      "0s - loss: 436979.8393\n",
      "Epoch 33/100\n",
      "0s - loss: 460645.1384\n",
      "Epoch 34/100\n",
      "0s - loss: 494903.4817\n",
      "Epoch 35/100\n",
      "0s - loss: 452995.4406\n",
      "Epoch 36/100\n",
      "0s - loss: 444330.6886\n",
      "Epoch 37/100\n",
      "0s - loss: 430467.2949\n",
      "Epoch 38/100\n",
      "0s - loss: 433589.3616\n",
      "Epoch 39/100\n",
      "0s - loss: 419620.3127\n",
      "Epoch 40/100\n",
      "0s - loss: 419935.5541\n",
      "Epoch 41/100\n",
      "0s - loss: 429938.5918\n",
      "Epoch 42/100\n",
      "0s - loss: 413952.3099\n",
      "Epoch 43/100\n",
      "0s - loss: 432897.4884\n",
      "Epoch 44/100\n",
      "0s - loss: 414415.0761\n",
      "Epoch 45/100\n",
      "0s - loss: 414749.3136\n",
      "Epoch 46/100\n",
      "0s - loss: 417193.8223\n",
      "Epoch 47/100\n",
      "0s - loss: 404122.5442\n",
      "Epoch 48/100\n",
      "0s - loss: 399067.2385\n",
      "Epoch 49/100\n",
      "0s - loss: 423925.6965\n",
      "Epoch 50/100\n",
      "0s - loss: 407864.6320\n",
      "Epoch 51/100\n",
      "0s - loss: 409753.5312\n",
      "Epoch 52/100\n",
      "0s - loss: 397537.2507\n",
      "Epoch 53/100\n",
      "0s - loss: 402922.6294\n",
      "Epoch 54/100\n",
      "0s - loss: 391764.4331\n",
      "Epoch 55/100\n",
      "0s - loss: 398230.2407\n",
      "Epoch 56/100\n",
      "0s - loss: 396004.4844\n",
      "Epoch 57/100\n",
      "0s - loss: 395571.8891\n",
      "Epoch 58/100\n",
      "0s - loss: 402118.0423\n",
      "Epoch 59/100\n",
      "0s - loss: 393600.6698\n",
      "Epoch 60/100\n",
      "0s - loss: 401729.9143\n",
      "Epoch 61/100\n",
      "0s - loss: 402661.3444\n",
      "Epoch 62/100\n",
      "0s - loss: 399685.9527\n",
      "Epoch 63/100\n",
      "0s - loss: 402703.1006\n",
      "Epoch 64/100\n",
      "0s - loss: 394137.4095\n",
      "Epoch 65/100\n",
      "0s - loss: 389165.4989\n",
      "Epoch 66/100\n",
      "0s - loss: 389486.3872\n",
      "Epoch 67/100\n",
      "0s - loss: 389528.7914\n",
      "Epoch 68/100\n",
      "0s - loss: 387884.2727\n",
      "Epoch 69/100\n",
      "0s - loss: 397228.1800\n",
      "Epoch 70/100\n",
      "0s - loss: 394535.0258\n",
      "Epoch 71/100\n",
      "0s - loss: 386152.6141\n",
      "Epoch 72/100\n",
      "0s - loss: 393932.9509\n",
      "Epoch 73/100\n",
      "0s - loss: 374964.3878\n",
      "Epoch 74/100\n",
      "0s - loss: 379367.7757\n",
      "Epoch 75/100\n",
      "0s - loss: 390428.3327\n",
      "Epoch 76/100\n",
      "0s - loss: 383846.4151\n",
      "Epoch 77/100\n",
      "0s - loss: 400694.7833\n",
      "Epoch 78/100\n",
      "0s - loss: 380326.0515\n",
      "Epoch 79/100\n",
      "0s - loss: 384549.1465\n",
      "Epoch 80/100\n",
      "0s - loss: 413726.8853\n",
      "Epoch 81/100\n",
      "0s - loss: 368426.4736\n",
      "Epoch 82/100\n",
      "0s - loss: 387250.7235\n",
      "Epoch 83/100\n",
      "0s - loss: 380837.7408\n",
      "Epoch 84/100\n",
      "0s - loss: 372521.0865\n",
      "Epoch 85/100\n",
      "0s - loss: 383627.9585\n",
      "Epoch 86/100\n",
      "0s - loss: 383194.3678\n",
      "Epoch 87/100\n",
      "0s - loss: 376098.4211\n",
      "Epoch 88/100\n",
      "0s - loss: 380203.7713\n",
      "Epoch 89/100\n",
      "0s - loss: 377000.5278\n",
      "Epoch 90/100\n",
      "0s - loss: 374706.4918\n",
      "Epoch 91/100\n",
      "0s - loss: 381893.1573\n",
      "Epoch 92/100\n",
      "0s - loss: 382964.0096\n",
      "Epoch 93/100\n",
      "0s - loss: 377751.4140\n",
      "Epoch 94/100\n",
      "0s - loss: 369865.9884\n",
      "Epoch 95/100\n",
      "0s - loss: 361775.6507\n",
      "Epoch 96/100\n",
      "0s - loss: 377875.7944\n",
      "Epoch 97/100\n",
      "0s - loss: 384835.2339\n",
      "Epoch 98/100\n",
      "0s - loss: 368360.0882\n",
      "Epoch 99/100\n",
      "0s - loss: 382586.7397\n",
      "Epoch 100/100\n",
      "0s - loss: 374678.9999\n"
     ]
    },
    {
     "data": {
      "text/plain": [
       "<keras.callbacks.History at 0x7f80fc0a0d90>"
      ]
     },
     "execution_count": 7,
     "metadata": {},
     "output_type": "execute_result"
    }
   ],
   "source": [
    "# create and fit the LSTM network\n",
    "model = Sequential()\n",
    "model.add(Dense(40, input_dim=look_back*32, activation='relu'))\n",
    "model.add(Dense(40,  activation='relu'))\n",
    "model.add(Dense(1))\n",
    "model.compile(loss='mean_squared_error', optimizer='adam')\n",
    "model.fit(trainX, trainY, nb_epoch=100, batch_size=5, verbose=2)"
   ]
  },
  {
   "cell_type": "code",
   "execution_count": 7,
   "metadata": {
    "collapsed": true
   },
   "outputs": [],
   "source": [
    "import sys\n",
    "sys.setrecursionlimit(10000)\n",
    "# Save the model\n",
    "# pickle.dump( model, open( \"save.p\", \"wb\" ) )"
   ]
  },
  {
   "cell_type": "code",
   "execution_count": 8,
   "metadata": {
    "collapsed": true
   },
   "outputs": [],
   "source": [
    "# make predictions\n",
    "trainPredict = model.predict(trainX)\n",
    "testPredict = model.predict(testX)"
   ]
  },
  {
   "cell_type": "code",
   "execution_count": 9,
   "metadata": {
    "collapsed": false
   },
   "outputs": [
    {
     "name": "stdout",
     "output_type": "stream",
     "text": [
      "Test Score: 796.18 RMSE\n"
     ]
    }
   ],
   "source": [
    "testScore = math.sqrt(mean_squared_error(testY, testPredict[:,0]))\n",
    "print('Test Score: %.2f RMSE' % (testScore))"
   ]
  }
 ],
 "metadata": {
  "kernelspec": {
   "display_name": "Python 2",
   "language": "python",
   "name": "python2"
  },
  "language_info": {
   "codemirror_mode": {
    "name": "ipython",
    "version": 2
   },
   "file_extension": ".py",
   "mimetype": "text/x-python",
   "name": "python",
   "nbconvert_exporter": "python",
   "pygments_lexer": "ipython2",
   "version": "2.7.12"
  }
 },
 "nbformat": 4,
 "nbformat_minor": 2
}
