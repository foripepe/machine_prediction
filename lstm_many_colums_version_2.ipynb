{
 "cells": [
  {
   "cell_type": "code",
   "execution_count": 1,
   "metadata": {
    "collapsed": false
   },
   "outputs": [
    {
     "name": "stderr",
     "output_type": "stream",
     "text": [
      "Using Theano backend.\n"
     ]
    }
   ],
   "source": [
    "# LSTM with regression framing\n",
    "import numpy\n",
    "import matplotlib.pyplot as plt\n",
    "import pandas\n",
    "import math\n",
    "import pickle\n",
    "\n",
    "from keras.models import Sequential\n",
    "from keras.layers import Dense\n",
    "from keras.layers import LSTM\n",
    "from sklearn.preprocessing import MinMaxScaler\n",
    "from sklearn.metrics import mean_squared_error\n",
    "\n",
    "# fix random seed for reproducibility\n",
    "numpy.random.seed(7)\n",
    "\n",
    "# load the dataset\n",
    "dataframe = pandas.read_csv('data/NL Pb till Dec 2016.csv', usecols=[2,3,4,5,6,7], engine='python', skipfooter=3)\n",
    "\n",
    "dataset = dataframe.values\n",
    "dataset = dataset.astype('float32')"
   ]
  },
  {
   "cell_type": "code",
   "execution_count": 2,
   "metadata": {
    "collapsed": true
   },
   "outputs": [],
   "source": [
    "# normalize the dataset\n",
    "#scaler = MinMaxScaler(feature_range=(0, 1))\n",
    "#dataset = scaler.fit_transform(dataset)"
   ]
  },
  {
   "cell_type": "code",
   "execution_count": 3,
   "metadata": {
    "collapsed": true
   },
   "outputs": [],
   "source": [
    "# split into train and test sets\n",
    "train_size = int(len(dataset) * 0.67)\n",
    "test_size = len(dataset) - train_size\n",
    "train, test = dataset[0:train_size,:], dataset[train_size:len(dataset),:]"
   ]
  },
  {
   "cell_type": "code",
   "execution_count": null,
   "metadata": {
    "collapsed": false
   },
   "outputs": [],
   "source": [
    "def create_dataset(dataset, look_back=1):\n",
    "    dataX, dataY = [], []\n",
    "    for i in range(len(dataset)-look_back-1):\n",
    "        a = []\n",
    "        for j in range(look_back):\n",
    "            a = numpy.concatenate([a, dataset[i + j][:-1]])\n",
    "        print(a)\n",
    "        dataX.append(a)\n",
    "        dataY.append(dataset[i + look_back, 5])\n",
    "    return numpy.array(dataX), numpy.array(dataY)\n",
    "\n",
    "# reshape into X=t and Y=t+1\n",
    "look_back = 10\n",
    "trainX, trainY = create_dataset(train, look_back)\n",
    "testX, testY = create_dataset(test, look_back)"
   ]
  },
  {
   "cell_type": "code",
   "execution_count": 5,
   "metadata": {
    "collapsed": true
   },
   "outputs": [],
   "source": [
    "# reshape input to be [samples, time steps, features]\n",
    "trainX = numpy.reshape(trainX, (trainX.shape[0], trainX.shape[1], 1))\n",
    "testX = numpy.reshape(testX, (testX.shape[0], testX.shape[1], 1))"
   ]
  },
  {
   "cell_type": "code",
   "execution_count": 6,
   "metadata": {
    "collapsed": false
   },
   "outputs": [
    {
     "name": "stderr",
     "output_type": "stream",
     "text": [
      "WARNING (theano.tensor.blas): We did not found a dynamic library into the library_dir of the library we use for blas. If you use ATLAS, make sure to compile it with dynamics library.\n"
     ]
    },
    {
     "name": "stdout",
     "output_type": "stream",
     "text": [
      "Epoch 1/100\n",
      "2s - loss: 2224512.2099\n",
      "Epoch 2/100\n",
      "2s - loss: 1427445.0788\n",
      "Epoch 3/100\n",
      "2s - loss: 808197.4487\n",
      "Epoch 4/100\n",
      "2s - loss: 634472.1024\n",
      "Epoch 5/100\n",
      "2s - loss: 616228.2469\n",
      "Epoch 6/100\n",
      "2s - loss: 615213.9655\n",
      "Epoch 7/100\n",
      "2s - loss: 613345.5695\n",
      "Epoch 8/100\n",
      "2s - loss: 608352.9527\n",
      "Epoch 9/100\n",
      "2s - loss: 603192.1278\n",
      "Epoch 10/100\n",
      "2s - loss: 598705.1763\n",
      "Epoch 11/100\n",
      "2s - loss: 599445.2899\n",
      "Epoch 12/100\n",
      "2s - loss: 601555.7603\n",
      "Epoch 13/100\n",
      "2s - loss: 595453.3890\n",
      "Epoch 14/100\n",
      "2s - loss: 597909.7620\n",
      "Epoch 15/100\n",
      "2s - loss: 592719.4519\n",
      "Epoch 16/100\n",
      "2s - loss: 589379.9750\n",
      "Epoch 17/100\n",
      "2s - loss: 587453.3575\n",
      "Epoch 18/100\n",
      "2s - loss: 579290.7761\n",
      "Epoch 19/100\n",
      "2s - loss: 577002.5127\n",
      "Epoch 20/100\n",
      "2s - loss: 574920.9791\n",
      "Epoch 21/100\n",
      "2s - loss: 570568.8492\n",
      "Epoch 22/100\n",
      "2s - loss: 567921.0528\n",
      "Epoch 23/100\n",
      "2s - loss: 564784.0997\n",
      "Epoch 24/100\n",
      "2s - loss: 565348.0474\n",
      "Epoch 25/100\n",
      "2s - loss: 561433.5286\n",
      "Epoch 26/100\n",
      "2s - loss: 559655.5958\n",
      "Epoch 27/100\n",
      "2s - loss: 556957.1070\n",
      "Epoch 28/100\n",
      "2s - loss: 554791.3267\n",
      "Epoch 29/100\n",
      "2s - loss: 557999.1557\n",
      "Epoch 30/100\n",
      "2s - loss: 549779.4783\n",
      "Epoch 31/100\n",
      "2s - loss: 550390.3141\n",
      "Epoch 32/100\n",
      "2s - loss: 545973.6438\n",
      "Epoch 33/100\n",
      "2s - loss: 546359.8111\n",
      "Epoch 34/100\n",
      "2s - loss: 545205.4991\n",
      "Epoch 35/100\n",
      "2s - loss: 547971.4415\n",
      "Epoch 36/100\n",
      "2s - loss: 544518.1804\n",
      "Epoch 37/100\n",
      "2s - loss: 540240.8687\n",
      "Epoch 38/100\n",
      "2s - loss: 534168.7142\n",
      "Epoch 39/100\n",
      "2s - loss: 538125.3081\n",
      "Epoch 40/100\n",
      "2s - loss: 535427.8832\n",
      "Epoch 41/100\n",
      "2s - loss: 539479.8136\n",
      "Epoch 42/100\n",
      "2s - loss: 534988.7882\n",
      "Epoch 43/100\n",
      "2s - loss: 536844.1679\n",
      "Epoch 44/100\n",
      "2s - loss: 533534.0193\n",
      "Epoch 45/100\n",
      "2s - loss: 535470.4397\n",
      "Epoch 46/100\n",
      "2s - loss: 532695.2504\n",
      "Epoch 47/100\n",
      "2s - loss: 532043.7888\n",
      "Epoch 48/100\n",
      "2s - loss: 528383.7424\n",
      "Epoch 49/100\n",
      "2s - loss: 522841.8080\n",
      "Epoch 50/100\n",
      "2s - loss: 537402.1639\n",
      "Epoch 51/100\n",
      "2s - loss: 532821.6407\n",
      "Epoch 52/100\n",
      "2s - loss: 536849.7464\n",
      "Epoch 53/100\n",
      "2s - loss: 532529.9660\n",
      "Epoch 54/100\n",
      "2s - loss: 533599.6045\n",
      "Epoch 55/100\n",
      "2s - loss: 527676.0772\n",
      "Epoch 56/100\n",
      "2s - loss: 523242.7108\n",
      "Epoch 57/100\n",
      "2s - loss: 526545.3403\n",
      "Epoch 58/100\n",
      "2s - loss: 523498.3567\n",
      "Epoch 59/100\n",
      "2s - loss: 525566.2511\n",
      "Epoch 60/100\n",
      "2s - loss: 521332.6325\n",
      "Epoch 61/100\n",
      "2s - loss: 523587.6557\n",
      "Epoch 62/100\n",
      "2s - loss: 521093.5800\n",
      "Epoch 63/100\n",
      "2s - loss: 515798.8383\n",
      "Epoch 64/100\n",
      "2s - loss: 520161.5530\n",
      "Epoch 65/100\n",
      "2s - loss: 514998.1908\n",
      "Epoch 66/100\n",
      "2s - loss: 512726.0307\n",
      "Epoch 67/100\n",
      "2s - loss: 510128.7902\n",
      "Epoch 68/100\n",
      "2s - loss: 513569.1635\n",
      "Epoch 69/100\n",
      "2s - loss: 510729.7552\n",
      "Epoch 70/100\n",
      "2s - loss: 514908.8449\n",
      "Epoch 71/100\n",
      "2s - loss: 508004.5649\n",
      "Epoch 72/100\n",
      "2s - loss: 504677.0809\n",
      "Epoch 73/100\n",
      "2s - loss: 522881.8722\n",
      "Epoch 74/100\n",
      "2s - loss: 515320.9909\n",
      "Epoch 75/100\n",
      "2s - loss: 520282.2990\n",
      "Epoch 76/100\n",
      "2s - loss: 512270.4975\n",
      "Epoch 77/100\n",
      "2s - loss: 511056.2636\n",
      "Epoch 78/100\n",
      "2s - loss: 515336.9246\n",
      "Epoch 79/100\n",
      "2s - loss: 512812.8029\n",
      "Epoch 80/100\n",
      "2s - loss: 512127.7767\n",
      "Epoch 81/100\n",
      "2s - loss: 509484.6712\n",
      "Epoch 82/100\n",
      "2s - loss: 500744.9672\n",
      "Epoch 83/100\n",
      "2s - loss: 510191.0751\n",
      "Epoch 84/100\n",
      "2s - loss: 501840.7339\n",
      "Epoch 85/100\n",
      "2s - loss: 504733.9478\n",
      "Epoch 86/100\n",
      "2s - loss: 501700.3641\n",
      "Epoch 87/100\n",
      "2s - loss: 505580.4801\n",
      "Epoch 88/100\n",
      "2s - loss: 503712.3265\n",
      "Epoch 89/100\n",
      "2s - loss: 513341.6348\n",
      "Epoch 90/100\n",
      "2s - loss: 501455.0045\n",
      "Epoch 91/100\n",
      "2s - loss: 498885.5305\n",
      "Epoch 92/100\n",
      "2s - loss: 510393.7135\n",
      "Epoch 93/100\n",
      "2s - loss: 496294.9738\n",
      "Epoch 94/100\n",
      "2s - loss: 498161.5181\n",
      "Epoch 95/100\n",
      "2s - loss: 500143.2084\n",
      "Epoch 96/100\n",
      "2s - loss: 506470.9855\n",
      "Epoch 97/100\n",
      "2s - loss: 497431.0317\n",
      "Epoch 98/100\n",
      "2s - loss: 507012.2177\n",
      "Epoch 99/100\n",
      "2s - loss: 493316.0987\n",
      "Epoch 100/100\n",
      "2s - loss: 495815.4902\n"
     ]
    },
    {
     "data": {
      "text/plain": [
       "<keras.callbacks.History at 0x7f2779fe3110>"
      ]
     },
     "execution_count": 6,
     "metadata": {},
     "output_type": "execute_result"
    }
   ],
   "source": [
    "# create and fit the LSTM network\n",
    "model = Sequential()\n",
    "model.add(LSTM(32, input_shape=(look_back * 5, 1)))\n",
    "model.add(Dense(40,  activation='relu'))\n",
    "# model.add(Dense(20,  activation='relu'))\n",
    "model.add(Dense(1))\n",
    "model.compile(loss='mean_squared_error', optimizer='adam')\n",
    "model.fit(trainX, trainY, nb_epoch=100, batch_size=5, verbose=2)"
   ]
  },
  {
   "cell_type": "code",
   "execution_count": 7,
   "metadata": {
    "collapsed": false
   },
   "outputs": [],
   "source": [
    "# make predictions\n",
    "trainPredict = model.predict(trainX)\n",
    "testPredict = model.predict(testX)"
   ]
  },
  {
   "cell_type": "code",
   "execution_count": 8,
   "metadata": {
    "collapsed": true
   },
   "outputs": [],
   "source": [
    "# invert predictions\n",
    "#trainPredict = scaler.inverse_transform(trainPredict)\n",
    "#trainY = scaler.inverse_transform([trainY])\n",
    "#testPredict = scaler.inverse_transform(testPredict)\n",
    "#testY = scaler.inverse_transform([testY])"
   ]
  },
  {
   "cell_type": "code",
   "execution_count": 9,
   "metadata": {
    "collapsed": false
   },
   "outputs": [
    {
     "name": "stdout",
     "output_type": "stream",
     "text": [
      "Train Score: 694.27 RMSE\n"
     ]
    }
   ],
   "source": [
    "# calculate root mean squared error\n",
    "trainScore = math.sqrt(mean_squared_error(trainY, trainPredict[:,0]))\n",
    "print('Train Score: %.2f RMSE' % (trainScore))"
   ]
  },
  {
   "cell_type": "code",
   "execution_count": 10,
   "metadata": {
    "collapsed": false
   },
   "outputs": [
    {
     "name": "stdout",
     "output_type": "stream",
     "text": [
      "Test Score: 979.47 RMSE\n"
     ]
    }
   ],
   "source": [
    "testScore = math.sqrt(mean_squared_error(testY, testPredict[:,0]))\n",
    "print('Test Score: %.2f RMSE' % (testScore))"
   ]
  },
  {
   "cell_type": "code",
   "execution_count": null,
   "metadata": {
    "collapsed": true
   },
   "outputs": [],
   "source": [
    "'''\n",
    "# shift train predictions for plotting\n",
    "trainPredictPlot = numpy.empty_like(dataset)\n",
    "trainPredictPlot[:, :] = numpy.nan\n",
    "trainPredictPlot[look_back:len(trainPredict)+look_back, :] = trainPredict\n",
    "# shift test predictions for plotting\n",
    "testPredictPlot = numpy.empty_like(dataset)\n",
    "testPredictPlot[:, :] = numpy.nan\n",
    "testPredictPlot[len(trainPredict)+(look_back*2)+1:len(dataset)-1, :] = testPredict\n",
    "# plot baseline and predictions\n",
    "plt.plot(scaler.inverse_transform(dataset))\n",
    "plt.plot(trainPredictPlot)\n",
    "plt.plot(testPredictPlot)\n",
    "plt.show()\n",
    "'''"
   ]
  }
 ],
 "metadata": {
  "kernelspec": {
   "display_name": "Python 2",
   "language": "python",
   "name": "python2"
  },
  "language_info": {
   "codemirror_mode": {
    "name": "ipython",
    "version": 2
   },
   "file_extension": ".py",
   "mimetype": "text/x-python",
   "name": "python",
   "nbconvert_exporter": "python",
   "pygments_lexer": "ipython2",
   "version": "2.7.12"
  }
 },
 "nbformat": 4,
 "nbformat_minor": 2
}
