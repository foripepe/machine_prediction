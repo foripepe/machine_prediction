{
 "cells": [
  {
   "cell_type": "code",
   "execution_count": 12,
   "metadata": {
    "collapsed": false
   },
   "outputs": [],
   "source": [
    "# LSTM with regression framing\n",
    "import numpy\n",
    "import matplotlib.pyplot as plt\n",
    "import pandas\n",
    "import math\n",
    "from keras.models import Sequential\n",
    "from keras.layers import Dense\n",
    "from keras.layers import LSTM\n",
    "from sklearn.preprocessing import MinMaxScaler\n",
    "from sklearn.metrics import mean_squared_error\n",
    "\n",
    "# convert an array of values into a dataset matrix\n",
    "def create_dataset(dataset, look_back=1):\n",
    "\tdataX, dataY = [], []\n",
    "\tfor i in range(len(dataset)-look_back-1):\n",
    "\t\ta = dataset[i:(i+look_back), 0]\n",
    "\t\tdataX.append(a)\n",
    "\t\tdataY.append(dataset[i + look_back, 0])\n",
    "\treturn numpy.array(dataX), numpy.array(dataY)\n",
    "\n",
    "# fix random seed for reproducibility\n",
    "numpy.random.seed(7)"
   ]
  },
  {
   "cell_type": "code",
   "execution_count": 13,
   "metadata": {
    "collapsed": true
   },
   "outputs": [],
   "source": [
    "# load the dataset\n",
    "dataframe = pandas.read_csv('data/NL Pb till Dec 2016 small.csv', usecols=[1], engine='python', skipfooter=3)\n",
    "dataset = dataframe.values\n",
    "dataset = dataset.astype('float32')"
   ]
  },
  {
   "cell_type": "code",
   "execution_count": 14,
   "metadata": {
    "collapsed": true
   },
   "outputs": [],
   "source": [
    "# normalize the dataset\n",
    "scaler = MinMaxScaler(feature_range=(0, 1))\n",
    "dataset = scaler.fit_transform(dataset)"
   ]
  },
  {
   "cell_type": "code",
   "execution_count": 15,
   "metadata": {
    "collapsed": true
   },
   "outputs": [],
   "source": [
    "# split into train and test sets\n",
    "train_size = int(len(dataset) * 0.67)\n",
    "test_size = len(dataset) - train_size\n",
    "train, test = dataset[0:train_size,:], dataset[train_size:len(dataset),:]"
   ]
  },
  {
   "cell_type": "code",
   "execution_count": 16,
   "metadata": {
    "collapsed": true
   },
   "outputs": [],
   "source": [
    "# reshape into X=t and Y=t+1\n",
    "look_back = 1\n",
    "trainX, trainY = create_dataset(train, look_back)\n",
    "testX, testY = create_dataset(test, look_back)"
   ]
  },
  {
   "cell_type": "code",
   "execution_count": 17,
   "metadata": {
    "collapsed": true
   },
   "outputs": [],
   "source": [
    "# reshape input to be [samples, time steps, features]\n",
    "trainX = numpy.reshape(trainX, (trainX.shape[0], 1, trainX.shape[1]))\n",
    "testX = numpy.reshape(testX, (testX.shape[0], 1, testX.shape[1]))"
   ]
  },
  {
   "cell_type": "code",
   "execution_count": 18,
   "metadata": {
    "collapsed": false
   },
   "outputs": [
    {
     "name": "stderr",
     "output_type": "stream",
     "text": [
      "WARNING (theano.tensor.blas): We did not found a dynamic library into the library_dir of the library we use for blas. If you use ATLAS, make sure to compile it with dynamics library.\n"
     ]
    },
    {
     "name": "stdout",
     "output_type": "stream",
     "text": [
      "Epoch 1/100\n",
      "1s - loss: 0.0128\n",
      "Epoch 2/100\n",
      "1s - loss: 0.0073\n",
      "Epoch 3/100\n",
      "1s - loss: 0.0070\n",
      "Epoch 4/100\n",
      "1s - loss: 0.0070\n",
      "Epoch 5/100\n",
      "1s - loss: 0.0069\n",
      "Epoch 6/100\n",
      "1s - loss: 0.0069\n",
      "Epoch 7/100\n",
      "1s - loss: 0.0069\n",
      "Epoch 8/100\n",
      "1s - loss: 0.0068\n",
      "Epoch 9/100\n",
      "1s - loss: 0.0069\n",
      "Epoch 10/100\n",
      "1s - loss: 0.0068\n",
      "Epoch 11/100\n",
      "1s - loss: 0.0068\n",
      "Epoch 12/100\n",
      "1s - loss: 0.0068\n",
      "Epoch 13/100\n",
      "1s - loss: 0.0067\n",
      "Epoch 14/100\n",
      "1s - loss: 0.0068\n",
      "Epoch 15/100\n",
      "1s - loss: 0.0067\n",
      "Epoch 16/100\n",
      "1s - loss: 0.0067\n",
      "Epoch 17/100\n",
      "1s - loss: 0.0067\n",
      "Epoch 18/100\n",
      "1s - loss: 0.0067\n",
      "Epoch 19/100\n",
      "1s - loss: 0.0067\n",
      "Epoch 20/100\n",
      "1s - loss: 0.0066\n",
      "Epoch 21/100\n",
      "1s - loss: 0.0067\n",
      "Epoch 22/100\n",
      "1s - loss: 0.0067\n",
      "Epoch 23/100\n",
      "1s - loss: 0.0067\n",
      "Epoch 24/100\n",
      "1s - loss: 0.0067\n",
      "Epoch 25/100\n",
      "1s - loss: 0.0067\n",
      "Epoch 26/100\n",
      "1s - loss: 0.0067\n",
      "Epoch 27/100\n",
      "1s - loss: 0.0067\n",
      "Epoch 28/100\n",
      "1s - loss: 0.0067\n",
      "Epoch 29/100\n",
      "1s - loss: 0.0066\n",
      "Epoch 30/100\n",
      "1s - loss: 0.0067\n",
      "Epoch 31/100\n",
      "1s - loss: 0.0067\n",
      "Epoch 32/100\n",
      "1s - loss: 0.0067\n",
      "Epoch 33/100\n",
      "1s - loss: 0.0067\n",
      "Epoch 34/100\n",
      "1s - loss: 0.0067\n",
      "Epoch 35/100\n",
      "1s - loss: 0.0067\n",
      "Epoch 36/100\n",
      "1s - loss: 0.0067\n",
      "Epoch 37/100\n",
      "1s - loss: 0.0067\n",
      "Epoch 38/100\n",
      "1s - loss: 0.0067\n",
      "Epoch 39/100\n",
      "1s - loss: 0.0066\n",
      "Epoch 40/100\n",
      "1s - loss: 0.0066\n",
      "Epoch 41/100\n",
      "1s - loss: 0.0067\n",
      "Epoch 42/100\n",
      "1s - loss: 0.0067\n",
      "Epoch 43/100\n",
      "1s - loss: 0.0067\n",
      "Epoch 44/100\n",
      "1s - loss: 0.0067\n",
      "Epoch 45/100\n",
      "1s - loss: 0.0067\n",
      "Epoch 46/100\n",
      "1s - loss: 0.0066\n",
      "Epoch 47/100\n",
      "1s - loss: 0.0066\n",
      "Epoch 48/100\n",
      "1s - loss: 0.0066\n",
      "Epoch 49/100\n",
      "1s - loss: 0.0067\n",
      "Epoch 50/100\n",
      "1s - loss: 0.0067\n",
      "Epoch 51/100\n",
      "1s - loss: 0.0067\n",
      "Epoch 52/100\n",
      "1s - loss: 0.0066\n",
      "Epoch 53/100\n",
      "1s - loss: 0.0067\n",
      "Epoch 54/100\n",
      "1s - loss: 0.0067\n",
      "Epoch 55/100\n",
      "1s - loss: 0.0067\n",
      "Epoch 56/100\n",
      "1s - loss: 0.0067\n",
      "Epoch 57/100\n",
      "1s - loss: 0.0067\n",
      "Epoch 58/100\n",
      "1s - loss: 0.0066\n",
      "Epoch 59/100\n",
      "1s - loss: 0.0067\n",
      "Epoch 60/100\n",
      "1s - loss: 0.0067\n",
      "Epoch 61/100\n",
      "1s - loss: 0.0067\n",
      "Epoch 62/100\n",
      "1s - loss: 0.0067\n",
      "Epoch 63/100\n",
      "1s - loss: 0.0067\n",
      "Epoch 64/100\n",
      "1s - loss: 0.0067\n",
      "Epoch 65/100\n",
      "1s - loss: 0.0067\n",
      "Epoch 66/100\n",
      "1s - loss: 0.0067\n",
      "Epoch 67/100\n",
      "1s - loss: 0.0066\n",
      "Epoch 68/100\n",
      "1s - loss: 0.0067\n",
      "Epoch 69/100\n",
      "1s - loss: 0.0067\n",
      "Epoch 70/100\n",
      "1s - loss: 0.0066\n",
      "Epoch 71/100\n",
      "1s - loss: 0.0066\n",
      "Epoch 72/100\n",
      "1s - loss: 0.0067\n",
      "Epoch 73/100\n",
      "1s - loss: 0.0067\n",
      "Epoch 74/100\n",
      "1s - loss: 0.0067\n",
      "Epoch 75/100\n",
      "1s - loss: 0.0067\n",
      "Epoch 76/100\n",
      "1s - loss: 0.0067\n",
      "Epoch 77/100\n",
      "1s - loss: 0.0067\n",
      "Epoch 78/100\n",
      "1s - loss: 0.0067\n",
      "Epoch 79/100\n",
      "1s - loss: 0.0067\n",
      "Epoch 80/100\n",
      "1s - loss: 0.0067\n",
      "Epoch 81/100\n",
      "1s - loss: 0.0066\n",
      "Epoch 82/100\n",
      "1s - loss: 0.0067\n",
      "Epoch 83/100\n",
      "1s - loss: 0.0066\n",
      "Epoch 84/100\n",
      "1s - loss: 0.0067\n",
      "Epoch 85/100\n",
      "1s - loss: 0.0066\n",
      "Epoch 86/100\n",
      "1s - loss: 0.0067\n",
      "Epoch 87/100\n",
      "1s - loss: 0.0067\n",
      "Epoch 88/100\n",
      "1s - loss: 0.0066\n",
      "Epoch 89/100\n",
      "1s - loss: 0.0067\n",
      "Epoch 90/100\n",
      "1s - loss: 0.0067\n",
      "Epoch 91/100\n",
      "1s - loss: 0.0067\n",
      "Epoch 92/100\n",
      "1s - loss: 0.0067\n",
      "Epoch 93/100\n",
      "1s - loss: 0.0067\n",
      "Epoch 94/100\n",
      "1s - loss: 0.0067\n",
      "Epoch 95/100\n",
      "1s - loss: 0.0066\n",
      "Epoch 96/100\n",
      "1s - loss: 0.0067\n",
      "Epoch 97/100\n",
      "1s - loss: 0.0067\n",
      "Epoch 98/100\n",
      "1s - loss: 0.0066\n",
      "Epoch 99/100\n",
      "1s - loss: 0.0066\n",
      "Epoch 100/100\n",
      "1s - loss: 0.0066\n"
     ]
    },
    {
     "data": {
      "text/plain": [
       "<keras.callbacks.History at 0x7f07cd327a10>"
      ]
     },
     "execution_count": 18,
     "metadata": {},
     "output_type": "execute_result"
    }
   ],
   "source": [
    "# create and fit the LSTM network\n",
    "model = Sequential()\n",
    "model.add(LSTM(4, input_dim=look_back))\n",
    "model.add(Dense(1))\n",
    "model.compile(loss='mean_squared_error', optimizer='adam')\n",
    "model.fit(trainX, trainY, nb_epoch=100, batch_size=1, verbose=2)"
   ]
  },
  {
   "cell_type": "code",
   "execution_count": 13,
   "metadata": {
    "collapsed": true
   },
   "outputs": [],
   "source": [
    "import sys\n",
    "sys.setrecursionlimit(10000)\n",
    "import pickle\n",
    "# Save the model\n",
    "# pickle.dump( model, open( \"saveX.p\", \"wb\" ) )"
   ]
  },
  {
   "cell_type": "code",
   "execution_count": 19,
   "metadata": {
    "collapsed": true
   },
   "outputs": [],
   "source": [
    "# make predictions\n",
    "trainPredict = model.predict(trainX)\n",
    "testPredict = model.predict(testX)"
   ]
  },
  {
   "cell_type": "code",
   "execution_count": 20,
   "metadata": {
    "collapsed": true
   },
   "outputs": [],
   "source": [
    "# invert predictions\n",
    "trainPredict = scaler.inverse_transform(trainPredict)\n",
    "trainY = scaler.inverse_transform([trainY])\n",
    "testPredict = scaler.inverse_transform(testPredict)\n",
    "testY = scaler.inverse_transform([testY])"
   ]
  },
  {
   "cell_type": "code",
   "execution_count": 21,
   "metadata": {
    "collapsed": false
   },
   "outputs": [
    {
     "name": "stdout",
     "output_type": "stream",
     "text": [
      "Train Score: 513.34 RMSE\n",
      "Test Score: 701.33 RMSE\n"
     ]
    }
   ],
   "source": [
    "# calculate root mean squared error\n",
    "trainScore = math.sqrt(mean_squared_error(trainY[0], trainPredict[:,0]))\n",
    "print('Train Score: %.2f RMSE' % (trainScore))\n",
    "testScore = math.sqrt(mean_squared_error(testY[0], testPredict[:,0]))\n",
    "print('Test Score: %.2f RMSE' % (testScore))"
   ]
  }
 ],
 "metadata": {
  "kernelspec": {
   "display_name": "Python 2",
   "language": "python",
   "name": "python2"
  },
  "language_info": {
   "codemirror_mode": {
    "name": "ipython",
    "version": 2
   },
   "file_extension": ".py",
   "mimetype": "text/x-python",
   "name": "python",
   "nbconvert_exporter": "python",
   "pygments_lexer": "ipython2",
   "version": "2.7.12"
  }
 },
 "nbformat": 4,
 "nbformat_minor": 2
}
